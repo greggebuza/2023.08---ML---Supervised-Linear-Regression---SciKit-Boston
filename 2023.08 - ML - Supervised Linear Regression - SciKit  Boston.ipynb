{
 "cells": [
  {
   "cell_type": "markdown",
   "id": "da4aa6cd",
   "metadata": {},
   "source": [
    "# Supervised Learning: Linear Regression"
   ]
  },
  {
   "cell_type": "markdown",
   "id": "a911751b",
   "metadata": {},
   "source": [
    "This project we will be going over linear regression, and will provide reference for future Machine Learning projects. We'll be going over how to use the scikit-learn regression model, as well as how to train the regressor using the fit() method, and how to predict new labels using the predict() method. We'll be analyzing a data set consisting of house prices in Boston. We'll start off with a single variable linear regression using numpy and then move on to using scikit learn. We'll do an overview of the mathematics behind the method we're using, but mostly we'll dive deeper into pratical \"hands-on\" coding.\n",
    "\n",
    "For reference of the deeper mathematics of linear regession methods, check out the [wikipedia page](http://en.wikipedia.org/wiki/Linear_regression) and also check out Andrew Ng's lectures for free on [youtube](https://www.youtube.com/watch?v=5u4G23_OohI).\n",
    "\n",
    "In this section we will be working through linear regression with the following steps:\n",
    "\n",
    "    Step 1: Getting and setting up the data.\n",
    "    Step 2: Visualizing current data.\n",
    "    Step 3: The mathematics behind the Least Squares Method.\n",
    "    Step 4: Using Numpy for a Univariate Linear Regression.\n",
    "    Step 5: Getting the error.\n",
    "    Step 6: Using scikit learn to implement a multivariate regression.\n",
    "    Step 7: Using Training and Validation.  \n",
    "    Step 8: Predicting Prices\n",
    "    Step 9 : Residual Plots\n",
    "    "
   ]
  },
  {
   "cell_type": "markdown",
   "id": "9a56f352",
   "metadata": {},
   "source": [
    "### Step 1: Getting and setting up the data."
   ]
  },
  {
   "cell_type": "markdown",
   "id": "e4e87ce4",
   "metadata": {},
   "source": [
    "Start with the example dataset from scikit-learn."
   ]
  },
  {
   "cell_type": "code",
   "execution_count": 3,
   "id": "095d12c5",
   "metadata": {},
   "outputs": [],
   "source": [
    "# Import the libraries you will use for:\n",
    "\n",
    "#data storage, orientation, and manipulation [i.e. standard numpy and pandas imports]\n",
    "import numpy as np\n",
    "import pandas as pd\n",
    "from pandas import Series,DataFrame\n",
    "\n",
    "#standard plotting libraries\n",
    "import matplotlib as mpl\n",
    "import matplotlib.pyplot as plt\n",
    "import seaborn as sns\n",
    "sns.set_style('whitegrid')\n",
    "\n",
    "#standard stats library\n",
    "from scipy import stats\n",
    "\n",
    "#command for showing plots in jupyter notebooks\n",
    "%matplotlib inline"
   ]
  },
  {
   "cell_type": "code",
   "execution_count": 2,
   "id": "0933000f",
   "metadata": {},
   "outputs": [
    {
     "ename": "ImportError",
     "evalue": "\n`load_boston` has been removed from scikit-learn since version 1.2.\n\nThe Boston housing prices dataset has an ethical problem: as\ninvestigated in [1], the authors of this dataset engineered a\nnon-invertible variable \"B\" assuming that racial self-segregation had a\npositive impact on house prices [2]. Furthermore the goal of the\nresearch that led to the creation of this dataset was to study the\nimpact of air quality but it did not give adequate demonstration of the\nvalidity of this assumption.\n\nThe scikit-learn maintainers therefore strongly discourage the use of\nthis dataset unless the purpose of the code is to study and educate\nabout ethical issues in data science and machine learning.\n\nIn this special case, you can fetch the dataset from the original\nsource::\n\n    import pandas as pd\n    import numpy as np\n\n    data_url = \"http://lib.stat.cmu.edu/datasets/boston\"\n    raw_df = pd.read_csv(data_url, sep=\"\\s+\", skiprows=22, header=None)\n    data = np.hstack([raw_df.values[::2, :], raw_df.values[1::2, :2]])\n    target = raw_df.values[1::2, 2]\n\nAlternative datasets include the California housing dataset and the\nAmes housing dataset. You can load the datasets as follows::\n\n    from sklearn.datasets import fetch_california_housing\n    housing = fetch_california_housing()\n\nfor the California housing dataset and::\n\n    from sklearn.datasets import fetch_openml\n    housing = fetch_openml(name=\"house_prices\", as_frame=True)\n\nfor the Ames housing dataset.\n\n[1] M Carlisle.\n\"Racist data destruction?\"\n<https://medium.com/@docintangible/racist-data-destruction-113e3eff54a8>\n\n[2] Harrison Jr, David, and Daniel L. Rubinfeld.\n\"Hedonic housing prices and the demand for clean air.\"\nJournal of environmental economics and management 5.1 (1978): 81-102.\n<https://www.researchgate.net/publication/4974606_Hedonic_housing_prices_and_the_demand_for_clean_air>\n",
     "output_type": "error",
     "traceback": [
      "\u001b[1;31m---------------------------------------------------------------------------\u001b[0m",
      "\u001b[1;31mImportError\u001b[0m                               Traceback (most recent call last)",
      "Cell \u001b[1;32mIn[2], line 2\u001b[0m\n\u001b[0;32m      1\u001b[0m \u001b[38;5;66;03m# Import boston dataset from scikit-learn\u001b[39;00m\n\u001b[1;32m----> 2\u001b[0m \u001b[38;5;28;01mfrom\u001b[39;00m \u001b[38;5;21;01msklearn\u001b[39;00m\u001b[38;5;21;01m.\u001b[39;00m\u001b[38;5;21;01mdatasets\u001b[39;00m \u001b[38;5;28;01mimport\u001b[39;00m load_boston\n",
      "File \u001b[1;32m~\\anaconda3\\Lib\\site-packages\\sklearn\\datasets\\__init__.py:156\u001b[0m, in \u001b[0;36m__getattr__\u001b[1;34m(name)\u001b[0m\n\u001b[0;32m    105\u001b[0m \u001b[38;5;28;01mif\u001b[39;00m name \u001b[38;5;241m==\u001b[39m \u001b[38;5;124m\"\u001b[39m\u001b[38;5;124mload_boston\u001b[39m\u001b[38;5;124m\"\u001b[39m:\n\u001b[0;32m    106\u001b[0m     msg \u001b[38;5;241m=\u001b[39m textwrap\u001b[38;5;241m.\u001b[39mdedent(\n\u001b[0;32m    107\u001b[0m \u001b[38;5;250m        \u001b[39m\u001b[38;5;124;03m\"\"\"\u001b[39;00m\n\u001b[0;32m    108\u001b[0m \u001b[38;5;124;03m        `load_boston` has been removed from scikit-learn since version 1.2.\u001b[39;00m\n\u001b[1;32m   (...)\u001b[0m\n\u001b[0;32m    154\u001b[0m \u001b[38;5;124;03m        \"\"\"\u001b[39;00m\n\u001b[0;32m    155\u001b[0m     )\n\u001b[1;32m--> 156\u001b[0m     \u001b[38;5;28;01mraise\u001b[39;00m \u001b[38;5;167;01mImportError\u001b[39;00m(msg)\n\u001b[0;32m    157\u001b[0m \u001b[38;5;28;01mtry\u001b[39;00m:\n\u001b[0;32m    158\u001b[0m     \u001b[38;5;28;01mreturn\u001b[39;00m \u001b[38;5;28mglobals\u001b[39m()[name]\n",
      "\u001b[1;31mImportError\u001b[0m: \n`load_boston` has been removed from scikit-learn since version 1.2.\n\nThe Boston housing prices dataset has an ethical problem: as\ninvestigated in [1], the authors of this dataset engineered a\nnon-invertible variable \"B\" assuming that racial self-segregation had a\npositive impact on house prices [2]. Furthermore the goal of the\nresearch that led to the creation of this dataset was to study the\nimpact of air quality but it did not give adequate demonstration of the\nvalidity of this assumption.\n\nThe scikit-learn maintainers therefore strongly discourage the use of\nthis dataset unless the purpose of the code is to study and educate\nabout ethical issues in data science and machine learning.\n\nIn this special case, you can fetch the dataset from the original\nsource::\n\n    import pandas as pd\n    import numpy as np\n\n    data_url = \"http://lib.stat.cmu.edu/datasets/boston\"\n    raw_df = pd.read_csv(data_url, sep=\"\\s+\", skiprows=22, header=None)\n    data = np.hstack([raw_df.values[::2, :], raw_df.values[1::2, :2]])\n    target = raw_df.values[1::2, 2]\n\nAlternative datasets include the California housing dataset and the\nAmes housing dataset. You can load the datasets as follows::\n\n    from sklearn.datasets import fetch_california_housing\n    housing = fetch_california_housing()\n\nfor the California housing dataset and::\n\n    from sklearn.datasets import fetch_openml\n    housing = fetch_openml(name=\"house_prices\", as_frame=True)\n\nfor the Ames housing dataset.\n\n[1] M Carlisle.\n\"Racist data destruction?\"\n<https://medium.com/@docintangible/racist-data-destruction-113e3eff54a8>\n\n[2] Harrison Jr, David, and Daniel L. Rubinfeld.\n\"Hedonic housing prices and the demand for clean air.\"\nJournal of environmental economics and management 5.1 (1978): 81-102.\n<https://www.researchgate.net/publication/4974606_Hedonic_housing_prices_and_the_demand_for_clean_air>\n"
     ]
    }
   ],
   "source": [
    "# Import boston dataset from scikit-learn\n",
    "from sklearn.datasets import load_boston"
   ]
  },
  {
   "cell_type": "markdown",
   "id": "8882116f",
   "metadata": {},
   "source": [
    "NOTE - because above error we will use the California Housing dataset to mimic the uploading style, but would like to try the Boston dataset as additional practice afterwards."
   ]
  },
  {
   "cell_type": "code",
   "execution_count": 4,
   "id": "c7486881",
   "metadata": {},
   "outputs": [],
   "source": [
    "# Import California dataset from scikit-learn:\n",
    "from sklearn.datasets import fetch_california_housing\n",
    "# Lead the housing dataset\n",
    "housing = fetch_california_housing()"
   ]
  },
  {
   "cell_type": "code",
   "execution_count": 5,
   "id": "a3cac366",
   "metadata": {},
   "outputs": [
    {
     "name": "stdout",
     "output_type": "stream",
     "text": [
      ".. _california_housing_dataset:\n",
      "\n",
      "California Housing dataset\n",
      "--------------------------\n",
      "\n",
      "**Data Set Characteristics:**\n",
      "\n",
      "    :Number of Instances: 20640\n",
      "\n",
      "    :Number of Attributes: 8 numeric, predictive attributes and the target\n",
      "\n",
      "    :Attribute Information:\n",
      "        - MedInc        median income in block group\n",
      "        - HouseAge      median house age in block group\n",
      "        - AveRooms      average number of rooms per household\n",
      "        - AveBedrms     average number of bedrooms per household\n",
      "        - Population    block group population\n",
      "        - AveOccup      average number of household members\n",
      "        - Latitude      block group latitude\n",
      "        - Longitude     block group longitude\n",
      "\n",
      "    :Missing Attribute Values: None\n",
      "\n",
      "This dataset was obtained from the StatLib repository.\n",
      "https://www.dcc.fc.up.pt/~ltorgo/Regression/cal_housing.html\n",
      "\n",
      "The target variable is the median house value for California districts,\n",
      "expressed in hundreds of thousands of dollars ($100,000).\n",
      "\n",
      "This dataset was derived from the 1990 U.S. census, using one row per census\n",
      "block group. A block group is the smallest geographical unit for which the U.S.\n",
      "Census Bureau publishes sample data (a block group typically has a population\n",
      "of 600 to 3,000 people).\n",
      "\n",
      "A household is a group of people residing within a home. Since the average\n",
      "number of rooms and bedrooms in this dataset are provided per household, these\n",
      "columns may take surprisingly large values for block groups with few households\n",
      "and many empty houses, such as vacation resorts.\n",
      "\n",
      "It can be downloaded/loaded using the\n",
      ":func:`sklearn.datasets.fetch_california_housing` function.\n",
      "\n",
      ".. topic:: References\n",
      "\n",
      "    - Pace, R. Kelley and Ronald Barry, Sparse Spatial Autoregressions,\n",
      "      Statistics and Probability Letters, 33 (1997) 291-297\n",
      "\n"
     ]
    }
   ],
   "source": [
    "# See what the dataset contains, via scikit documentation\n",
    "print(housing.DESCR)"
   ]
  },
  {
   "cell_type": "markdown",
   "id": "f2ab5a4b",
   "metadata": {},
   "source": [
    "### Step 2: Visualizing current data"
   ]
  },
  {
   "cell_type": "markdown",
   "id": "aece6183",
   "metadata": {},
   "source": [
    "A good first step is to always get a quick visualization of the available data."
   ]
  },
  {
   "cell_type": "code",
   "execution_count": 9,
   "id": "51886f4b",
   "metadata": {},
   "outputs": [
    {
     "data": {
      "text/plain": [
       "Text(0, 0.5, 'Number of Houses')"
      ]
     },
     "execution_count": 9,
     "metadata": {},
     "output_type": "execute_result"
    },
    {
     "data": {
      "image/png": "[encoded data removed]",
      "text/plain": [
       "<Figure size 640x480 with 1 Axes>"
      ]
     },
     "metadata": {},
     "output_type": "display_data"
    }
   ],
   "source": [
    "# Plot a histogram of the prices (this is the target of our dataset)\n",
    "plt.hist(housing.target, bins = 50)\n",
    "\n",
    "# Labelling histogram\n",
    "plt.xlabel('Average Housing Price in Block in $100,000s')\n",
    "plt.ylabel('Number of Houses')"
   ]
  },
  {
   "cell_type": "markdown",
   "id": "096ea084",
   "metadata": {},
   "source": [
    "To get an idea of possible correlation, let's create a scatter plot of one feature vs. the target."
   ]
  },
  {
   "cell_type": "code",
   "execution_count": 15,
   "id": "4f59761b",
   "metadata": {},
   "outputs": [
    {
     "data": {
      "text/plain": [
       "Text(0.5, 0, 'Number of Rooms')"
      ]
     },
     "execution_count": 15,
     "metadata": {},
     "output_type": "execute_result"
    },
    {
     "data": {
      "image/png": "[encoded data removed]",
      "text/plain": [
       "<Figure size 640x480 with 1 Axes>"
      ]
     },
     "metadata": {},
     "output_type": "display_data"
    }
   ],
   "source": [
    "# Plot a scatter of the price [target of dataset] vs. Number of Rooms per dwelling\n",
    "plt.scatter(housing.data[:,2], housing.target)\n",
    "\n",
    "# Labelling scatter\n",
    "plt.ylabel('Average Housing Price in Block in $100,000s')\n",
    "plt.xlabel('Number of Rooms')"
   ]
  },
  {
   "cell_type": "markdown",
   "id": "d3bd1800",
   "metadata": {},
   "source": [
    "Unlike the Boston data it is hard to see a specific trend line between price and number of rooms. I wonder if this is a function of the blocks data as opposed to houses. Either way, we will try and perform a linear fit of the data using pandas dataframes and seaborn as an exercise."
   ]
  },
  {
   "cell_type": "markdown",
   "id": "6ce1bce0",
   "metadata": {},
   "source": [
    "Let's try to do the following:\n",
    "\n",
    "    1.) Use pandas to transform the housing dataset into a DataFrame: \n",
    "    \n",
    "    2.) Then use seaborn to perform an lmplot on that DataFrame to reproduce the scatter plot with a linear fit line."
   ]
  },
  {
   "cell_type": "code",
   "execution_count": 5,
   "id": "ce50cea0",
   "metadata": {},
   "outputs": [
    {
     "data": {
      "text/html": [
       "<div>\n",
       "<style scoped>\n",
       "    .dataframe tbody tr th:only-of-type {\n",
       "        vertical-align: middle;\n",
       "    }\n",
       "\n",
       "    .dataframe tbody tr th {\n",
       "        vertical-align: top;\n",
       "    }\n",
       "\n",
       "    .dataframe thead th {\n",
       "        text-align: right;\n",
       "    }\n",
       "</style>\n",
       "<table border=\"1\" class=\"dataframe\">\n",
       "  <thead>\n",
       "    <tr style=\"text-align: right;\">\n",
       "      <th></th>\n",
       "      <th>MedInc</th>\n",
       "      <th>HouseAge</th>\n",
       "      <th>AveRooms</th>\n",
       "      <th>AveBedrms</th>\n",
       "      <th>Population</th>\n",
       "      <th>AveOccup</th>\n",
       "      <th>Latitude</th>\n",
       "      <th>Longitude</th>\n",
       "    </tr>\n",
       "  </thead>\n",
       "  <tbody>\n",
       "    <tr>\n",
       "      <th>0</th>\n",
       "      <td>8.3252</td>\n",
       "      <td>41.0</td>\n",
       "      <td>6.984127</td>\n",
       "      <td>1.023810</td>\n",
       "      <td>322.0</td>\n",
       "      <td>2.555556</td>\n",
       "      <td>37.88</td>\n",
       "      <td>-122.23</td>\n",
       "    </tr>\n",
       "    <tr>\n",
       "      <th>1</th>\n",
       "      <td>8.3014</td>\n",
       "      <td>21.0</td>\n",
       "      <td>6.238137</td>\n",
       "      <td>0.971880</td>\n",
       "      <td>2401.0</td>\n",
       "      <td>2.109842</td>\n",
       "      <td>37.86</td>\n",
       "      <td>-122.22</td>\n",
       "    </tr>\n",
       "    <tr>\n",
       "      <th>2</th>\n",
       "      <td>7.2574</td>\n",
       "      <td>52.0</td>\n",
       "      <td>8.288136</td>\n",
       "      <td>1.073446</td>\n",
       "      <td>496.0</td>\n",
       "      <td>2.802260</td>\n",
       "      <td>37.85</td>\n",
       "      <td>-122.24</td>\n",
       "    </tr>\n",
       "    <tr>\n",
       "      <th>3</th>\n",
       "      <td>5.6431</td>\n",
       "      <td>52.0</td>\n",
       "      <td>5.817352</td>\n",
       "      <td>1.073059</td>\n",
       "      <td>558.0</td>\n",
       "      <td>2.547945</td>\n",
       "      <td>37.85</td>\n",
       "      <td>-122.25</td>\n",
       "    </tr>\n",
       "    <tr>\n",
       "      <th>4</th>\n",
       "      <td>3.8462</td>\n",
       "      <td>52.0</td>\n",
       "      <td>6.281853</td>\n",
       "      <td>1.081081</td>\n",
       "      <td>565.0</td>\n",
       "      <td>2.181467</td>\n",
       "      <td>37.85</td>\n",
       "      <td>-122.25</td>\n",
       "    </tr>\n",
       "  </tbody>\n",
       "</table>\n",
       "</div>"
      ],
      "text/plain": [
       "   MedInc  HouseAge  AveRooms  AveBedrms  Population  AveOccup  Latitude  \\\n",
       "0  8.3252      41.0  6.984127   1.023810       322.0  2.555556     37.88   \n",
       "1  8.3014      21.0  6.238137   0.971880      2401.0  2.109842     37.86   \n",
       "2  7.2574      52.0  8.288136   1.073446       496.0  2.802260     37.85   \n",
       "3  5.6431      52.0  5.817352   1.073059       558.0  2.547945     37.85   \n",
       "4  3.8462      52.0  6.281853   1.081081       565.0  2.181467     37.85   \n",
       "\n",
       "   Longitude  \n",
       "0    -122.23  \n",
       "1    -122.22  \n",
       "2    -122.24  \n",
       "3    -122.25  \n",
       "4    -122.25  "
      ]
     },
     "execution_count": 5,
     "metadata": {},
     "output_type": "execute_result"
    }
   ],
   "source": [
    "# Set the housing data as a pandas DataFrame\n",
    "df_housing = DataFrame(housing.data)\n",
    "\n",
    "# Label the columns\n",
    "df_housing.columns = housing.feature_names\n",
    "\n",
    "# Show the dataset\n",
    "df_housing.head()"
   ]
  },
  {
   "cell_type": "markdown",
   "id": "4b75e965",
   "metadata": {},
   "source": [
    "Now let's add the target of the housing data set, the price. We'll create a new column in our DataFrame."
   ]
  },
  {
   "cell_type": "code",
   "execution_count": 6,
   "id": "bbb444be",
   "metadata": {},
   "outputs": [],
   "source": [
    "df_housing['Price'] = housing.target"
   ]
  },
  {
   "cell_type": "code",
   "execution_count": 18,
   "id": "f5eb9344",
   "metadata": {},
   "outputs": [
    {
     "data": {
      "text/html": [
       "<div>\n",
       "<style scoped>\n",
       "    .dataframe tbody tr th:only-of-type {\n",
       "        vertical-align: middle;\n",
       "    }\n",
       "\n",
       "    .dataframe tbody tr th {\n",
       "        vertical-align: top;\n",
       "    }\n",
       "\n",
       "    .dataframe thead th {\n",
       "        text-align: right;\n",
       "    }\n",
       "</style>\n",
       "<table border=\"1\" class=\"dataframe\">\n",
       "  <thead>\n",
       "    <tr style=\"text-align: right;\">\n",
       "      <th></th>\n",
       "      <th>MedInc</th>\n",
       "      <th>HouseAge</th>\n",
       "      <th>AveRooms</th>\n",
       "      <th>AveBedrms</th>\n",
       "      <th>Population</th>\n",
       "      <th>AveOccup</th>\n",
       "      <th>Latitude</th>\n",
       "      <th>Longitude</th>\n",
       "      <th>Price</th>\n",
       "    </tr>\n",
       "  </thead>\n",
       "  <tbody>\n",
       "    <tr>\n",
       "      <th>0</th>\n",
       "      <td>8.3252</td>\n",
       "      <td>41.0</td>\n",
       "      <td>6.984127</td>\n",
       "      <td>1.023810</td>\n",
       "      <td>322.0</td>\n",
       "      <td>2.555556</td>\n",
       "      <td>37.88</td>\n",
       "      <td>-122.23</td>\n",
       "      <td>4.526</td>\n",
       "    </tr>\n",
       "    <tr>\n",
       "      <th>1</th>\n",
       "      <td>8.3014</td>\n",
       "      <td>21.0</td>\n",
       "      <td>6.238137</td>\n",
       "      <td>0.971880</td>\n",
       "      <td>2401.0</td>\n",
       "      <td>2.109842</td>\n",
       "      <td>37.86</td>\n",
       "      <td>-122.22</td>\n",
       "      <td>3.585</td>\n",
       "    </tr>\n",
       "    <tr>\n",
       "      <th>2</th>\n",
       "      <td>7.2574</td>\n",
       "      <td>52.0</td>\n",
       "      <td>8.288136</td>\n",
       "      <td>1.073446</td>\n",
       "      <td>496.0</td>\n",
       "      <td>2.802260</td>\n",
       "      <td>37.85</td>\n",
       "      <td>-122.24</td>\n",
       "      <td>3.521</td>\n",
       "    </tr>\n",
       "    <tr>\n",
       "      <th>3</th>\n",
       "      <td>5.6431</td>\n",
       "      <td>52.0</td>\n",
       "      <td>5.817352</td>\n",
       "      <td>1.073059</td>\n",
       "      <td>558.0</td>\n",
       "      <td>2.547945</td>\n",
       "      <td>37.85</td>\n",
       "      <td>-122.25</td>\n",
       "      <td>3.413</td>\n",
       "    </tr>\n",
       "    <tr>\n",
       "      <th>4</th>\n",
       "      <td>3.8462</td>\n",
       "      <td>52.0</td>\n",
       "      <td>6.281853</td>\n",
       "      <td>1.081081</td>\n",
       "      <td>565.0</td>\n",
       "      <td>2.181467</td>\n",
       "      <td>37.85</td>\n",
       "      <td>-122.25</td>\n",
       "      <td>3.422</td>\n",
       "    </tr>\n",
       "  </tbody>\n",
       "</table>\n",
       "</div>"
      ],
      "text/plain": [
       "   MedInc  HouseAge  AveRooms  AveBedrms  Population  AveOccup  Latitude  \\\n",
       "0  8.3252      41.0  6.984127   1.023810       322.0  2.555556     37.88   \n",
       "1  8.3014      21.0  6.238137   0.971880      2401.0  2.109842     37.86   \n",
       "2  7.2574      52.0  8.288136   1.073446       496.0  2.802260     37.85   \n",
       "3  5.6431      52.0  5.817352   1.073059       558.0  2.547945     37.85   \n",
       "4  3.8462      52.0  6.281853   1.081081       565.0  2.181467     37.85   \n",
       "\n",
       "   Longitude  Price  \n",
       "0    -122.23  4.526  \n",
       "1    -122.22  3.585  \n",
       "2    -122.24  3.521  \n",
       "3    -122.25  3.413  \n",
       "4    -122.25  3.422  "
      ]
     },
     "execution_count": 18,
     "metadata": {},
     "output_type": "execute_result"
    }
   ],
   "source": [
    "# Show the dataset\n",
    "df_housing.head()"
   ]
  },
  {
   "cell_type": "code",
   "execution_count": 21,
   "id": "b4ff0bef",
   "metadata": {},
   "outputs": [
    {
     "data": {
      "text/plain": [
       "<seaborn.axisgrid.FacetGrid at 0x115cd80df90>"
      ]
     },
     "execution_count": 21,
     "metadata": {},
     "output_type": "execute_result"
    },
    {
     "data": {
      "image/png": "[encoded data removed]",
      "text/plain": [
       "<Figure size 500x500 with 1 Axes>"
      ]
     },
     "metadata": {},
     "output_type": "display_data"
    }
   ],
   "source": [
    "# Plotting a linear fit via seaborn\n",
    "sns.lmplot(data = df_housing, x = 'AveRooms', y = 'Price')"
   ]
  },
  {
   "cell_type": "markdown",
   "id": "bf777da2",
   "metadata": {},
   "source": [
    "NOTE - It is good to note that this seaborm method is not suitable for larger, more complicated, regression models. For those more complicated models we will be focusing on the scitkit learn library."
   ]
  },
  {
   "cell_type": "markdown",
   "id": "67df6a66",
   "metadata": {},
   "source": [
    "### Step 3: The mathematics behind the Least Squares Method."
   ]
  },
  {
   "cell_type": "markdown",
   "id": "b0bf3cc7",
   "metadata": {},
   "source": [
    "This particular project will use the least squares method as the way to estimate the coefficients. Below, for reference, is a quick breakdown of how this method works mathematically:"
   ]
  },
  {
   "cell_type": "markdown",
   "id": "bb50cff1",
   "metadata": {},
   "source": [
    "Take a quick look at the plot we created above using seaborn. Now consider each point, and know that they each have a coordinate in the form (X,Y). Now draw an imaginary line between each point and our current \"best-fit\" line. We'll call the distanace between each point and our current best-fit line, D. To get a quick image of what we're currently trying to visualize, take a look at the picture below:"
   ]
  },
  {
   "cell_type": "code",
   "execution_count": 2,
   "id": "0d63c6a3",
   "metadata": {},
   "outputs": [
    {
     "data": {
      "image/png": "[encoded data removed]",
      "text/plain": [
       "<IPython.core.display.Image object>"
      ]
     },
     "execution_count": 2,
     "metadata": {},
     "output_type": "execute_result"
    }
   ],
   "source": [
    "# Quick display of image form wikipedia\n",
    "from IPython.display import Image\n",
    "url = 'http://upload.wikimedia.org/wikipedia/commons/thumb/b/b0/Linear_least_squares_example2.svg/220px-Linear_least_squares_example2.svg.png'\n",
    "Image(url)"
   ]
  },
  {
   "cell_type": "markdown",
   "id": "1bc8b1b8",
   "metadata": {},
   "source": [
    "Now as before, we're labeling each green line as having a distance D, and each red point as having a coordinate of (X,Y). Then we can define our best fit line as the line having the property were:\n",
    "$$ D_{1}^2 + D_{2}^2 + D_{3}^2 + D_{4}^2 + ....+ D_{N}^2$$\n",
    "\n",
    "So how do we find this line? The least-square line approximating the set of points:\n",
    "\n",
    "$$ (X,Y)_{1},(X,Y)_{2},(X,Y)_{3},(X,Y)_{4},(X,Y)_{5}, $$\n",
    "\n",
    "has the equation:\n",
    "$$ Y = a_{0} +a_{1}X $$\n",
    "this is basically just a rewritten form of the standard equation for a line:\n",
    "$$Y=mx+b$$\n",
    "\n",
    "We can solve for these constants a0 and a1 by simultaneously solving these equations:\n",
    "$$ \\Sigma Y = a_{0}N + a_{1}\\Sigma X $$\n",
    "$$ \\Sigma XY = a_{0}\\Sigma X + a_{1}\\Sigma X^2 $$"
   ]
  },
  {
   "cell_type": "markdown",
   "id": "6acec6c6",
   "metadata": {},
   "source": [
    "These are called the normal equations for the least squares line. There are further steps that can be taken in rearranging these equations  to solve for y, but we'll let scikit-learn do the rest of the heavy lifting here. If you want further informatino on the mathematics of the above formulas, check out this video [video](https://www.youtube.com/watch?v=Qa2APhWjQPc).\n",
    "\n",
    "For now, we'll use numpy to do a simple single variable linear regression. Afterwards we'll look at the power of scikit learn to do a full multivariate linear regression."
   ]
  },
  {
   "cell_type": "markdown",
   "id": "8ab3dcef",
   "metadata": {},
   "source": [
    "### Step 4: Using Numpy for a Univariate Linear Regression"
   ]
  },
  {
   "cell_type": "markdown",
   "id": "5407f953",
   "metadata": {},
   "source": [
    "Numpy has a built in Least Square Method in its linear algebra library. We'll use this first for our Univariate regression and then move on to scikit learn for out Multi variate regression.\n",
    "\n",
    "We will start by setting up the X and Y arrays for numpy to take in. An important note for the X array: Numpy expects a two-dimensional array, the first dimension is the different example values, and the second dimension is the attribute number. In this case we have our value as the mean number of rooms per house, and this is a single attribute so the second dimension of the array is just 1. So we'll need to create a (506,1) shape array. There are a few ways to do this, but an easy way to do this is by using numpy's built-in vertical stack tool, vstack."
   ]
  },
  {
   "cell_type": "code",
   "execution_count": 33,
   "id": "ba112428",
   "metadata": {},
   "outputs": [],
   "source": [
    "# Set up the X as Average Rooms\n",
    "X = df_housing.AveRooms\n",
    "\n",
    "# Use vstack to make X a two-dimensional array\n",
    "X = np.vstack((df_housing.AveRooms, np.ones(len(X)))).T\n",
    "\n",
    "# Set up Y as the target price of the houses.\n",
    "Y = df_housing.Price"
   ]
  },
  {
   "cell_type": "markdown",
   "id": "51d5ebb8",
   "metadata": {},
   "source": [
    "Now that we have our X and Y, let's go ahead and use numpy to create the single variable linear regression.\n",
    "\n",
    "We know that a line has the equation:\n",
    "$$y=mx+b$$\n",
    "which we can rewrite using matrices:\n",
    "$$y=Ap$$\n",
    "where:\n",
    "$$A = \\begin{bmatrix}x & 1\\end{bmatrix}$$\n",
    "and\n",
    "$$p= \\begin{bmatrix}m \\\\b\\end{bmatrix}$$\n",
    "\n",
    "This is the same as the first equation if you carry out the linear algebra. \n",
    "So we'll start by creating the A matrix using numpy. We'll do this by creating a matrix in the form [X 1], so we'll call every value in our original X using a list comprehension and then set up an array in the form [X 1]"
   ]
  },
  {
   "cell_type": "code",
   "execution_count": 23,
   "id": "8728a49a",
   "metadata": {},
   "outputs": [
    {
     "ename": "ValueError",
     "evalue": "setting an array element with a sequence. The requested array has an inhomogeneous shape after 2 dimensions. The detected shape was (20640, 2) + inhomogeneous part.",
     "output_type": "error",
     "traceback": [
      "\u001b[1;31m---------------------------------------------------------------------------\u001b[0m",
      "\u001b[1;31mValueError\u001b[0m                                Traceback (most recent call last)",
      "Cell \u001b[1;32mIn[23], line 2\u001b[0m\n\u001b[0;32m      1\u001b[0m \u001b[38;5;66;03m# Create the X array in the form [X 1]\u001b[39;00m\n\u001b[1;32m----> 2\u001b[0m X \u001b[38;5;241m=\u001b[39m np\u001b[38;5;241m.\u001b[39marray([[value,\u001b[38;5;241m1\u001b[39m] \u001b[38;5;28;01mfor\u001b[39;00m value \u001b[38;5;129;01min\u001b[39;00m X\u001b[38;5;241m+\u001b[39m\u001b[38;5;241m1\u001b[39m])\n",
      "\u001b[1;31mValueError\u001b[0m: setting an array element with a sequence. The requested array has an inhomogeneous shape after 2 dimensions. The detected shape was (20640, 2) + inhomogeneous part."
     ]
    }
   ],
   "source": [
    "'''\n",
    "Need to figure out why the below method of list comprehension is not working\n",
    "'''\n",
    "\n",
    "# Create the X array in the form [X 1]\n",
    "#X = np.array([[value,1] for value in X])"
   ]
  },
  {
   "cell_type": "code",
   "execution_count": 35,
   "id": "e0b48ce6",
   "metadata": {},
   "outputs": [
    {
     "name": "stderr",
     "output_type": "stream",
     "text": [
      "C:\\Users\\ggebu\\AppData\\Local\\Temp\\ipykernel_12188\\1866499646.py:2: FutureWarning: `rcond` parameter will change to the default of machine precision times ``max(M, N)`` where M and N are the input matrix dimensions.\n",
      "To use the future default and silence this warning we advise to pass `rcond=None`, to keep using the old, explicitly pass `rcond=-1`.\n",
      "  m, b = np.linalg.lstsq(X, Y)[0]\n"
     ]
    }
   ],
   "source": [
    "# Now get out m and b values for our best fit line\n",
    "m, b = np.linalg.lstsq(X, Y)[0]"
   ]
  },
  {
   "cell_type": "code",
   "execution_count": 36,
   "id": "36f70a36",
   "metadata": {},
   "outputs": [
    {
     "data": {
      "text/plain": [
       "[<matplotlib.lines.Line2D at 0x18b83f99fd0>]"
      ]
     },
     "execution_count": 36,
     "metadata": {},
     "output_type": "execute_result"
    },
    {
     "data": {
      "image/png": "[encoded data removed]",
      "text/plain": [
       "<Figure size 640x480 with 1 Axes>"
      ]
     },
     "metadata": {},
     "output_type": "display_data"
    }
   ],
   "source": [
    "# First the original points, Price vs Avg Number of Rooms\n",
    "plt.plot(df_housing.AveRooms,df_housing.Price,'o')\n",
    "\n",
    "# Next the best fit line\n",
    "x= df_housing.AveRooms\n",
    "plt.plot(x, m*x + b,'r',label='Best Fit Line')"
   ]
  },
  {
   "cell_type": "markdown",
   "id": "76259f0d",
   "metadata": {},
   "source": [
    "### Step 5: Getting the error"
   ]
  },
  {
   "cell_type": "markdown",
   "id": "f8e2008a",
   "metadata": {},
   "source": [
    "As done above, we've just completed a single variable regression using the least squares method with Python. Let's see if we can find the error in our fitted line. Checking out the documentation [here](http://docs.scipy.org/doc/numpy/reference/generated/numpy.linalg.lstsq.html), we see that the resulting array has the total squared error. For each element, it checks the the difference between the line and the true value (our original D value), squares it, and returns the sum of all these. This was the summed D^2 value we discussed earlier. \n",
    "\n",
    "It's probably easier to understand the root mean squared error, which is similar to the standard deviation. In this case, to find the root mean square error we divide by the number of elements and then take the square root. There is also an issue of bias and an unbiased regression, but we'll delve into those topics later.\n",
    "\n",
    "For now let's see how we can get the root mean squared error of the line we just fitted."
   ]
  },
  {
   "cell_type": "code",
   "execution_count": 38,
   "id": "bc1c83de",
   "metadata": {},
   "outputs": [
    {
     "name": "stdout",
     "output_type": "stream",
     "text": [
      "The root mean squared error was 1.14 \n"
     ]
    },
    {
     "name": "stderr",
     "output_type": "stream",
     "text": [
      "C:\\Users\\ggebu\\AppData\\Local\\Temp\\ipykernel_12188\\1341421443.py:11: DeprecationWarning: Conversion of an array with ndim > 0 to a scalar is deprecated, and will error in future. Ensure you extract a single element from your array before performing this operation. (Deprecated NumPy 1.25.)\n",
      "  print(\"The root mean squared error was %.2f \" %rmse)\n"
     ]
    }
   ],
   "source": [
    "# Get the resulting array\n",
    "result = np.linalg.lstsq(X,Y, rcond = 1)\n",
    "\n",
    "# Get the total error\n",
    "error_total = result[1]\n",
    "\n",
    "# Get the root mean square error\n",
    "rmse = np.sqrt(error_total/len(X) )\n",
    "\n",
    "# Print\n",
    "print(\"The root mean squared error was %.2f \" %rmse)"
   ]
  },
  {
   "cell_type": "markdown",
   "id": "afddd8b6",
   "metadata": {},
   "source": [
    "Since the root mean square error (RMSE) corresponds approximately to the standard deviation we can now say that the price of a house won't vary more than 2 times the RMSE 95% of the time. Note: Review the Normal Distribution Appendix lecture if this doesn't make sense to you or check out this [link](http://en.wikipedia.org/wiki/68%E2%80%9395%E2%80%9399.7_rule).\n",
    "\n",
    "Thus we can reasonably expect a house price to be within $228,000 of our line fit."
   ]
  },
  {
   "cell_type": "markdown",
   "id": "80572b87",
   "metadata": {},
   "source": [
    "Put more simply, RMSE is ~ the Standard Deviation. Therefore, SD is ~ 1.14. Which, suggests, based on the 68-95-99.7 rule, 2x the SD will happen 95%. Therefore, 95% the housing price will be 2.28 of the fit line.\n",
    "\n",
    "Good reference for explaination on RMSE\n",
    "[here](https://medium.com/@mygreatlearning/rmse-what-does-it-mean-2d446c0b1d0e)"
   ]
  },
  {
   "cell_type": "markdown",
   "id": "541bde60",
   "metadata": {},
   "source": [
    "### Step 6: Using scikit learn to implement a multivariate regression"
   ]
  },
  {
   "cell_type": "markdown",
   "id": "70f2c0ac",
   "metadata": {},
   "source": [
    "Now, we'll keep moving along with using scikit learn to do a multi variable regression. This will be a similar apporach to the above example, but sci kit learn will be able to take into account more than just a single data variable effecting the target!\n",
    "\n",
    "We'll start by importing the [linear regression library](http://scikit-learn.org/stable/modules/generated/sklearn.linear_model.LinearRegression.html) from the sklearn module.\n",
    "\n",
    "The sklearn.linear_model.LinearRegression class is an estimator. Estimators predict a value based on the observed data. In scikit-learn, all estimators implement the fit() and predict() methods. The former method is used to learn the parameters of a model, and the latter method is used to predict the value of a response variable for an explanatory variable using the learned parameters. It is easy to experiment with different models using scikit-learn because all estimators implement the fit and predict methods."
   ]
  },
  {
   "cell_type": "code",
   "execution_count": 39,
   "id": "d1c4be00",
   "metadata": {},
   "outputs": [],
   "source": [
    "# Import for Linear Regression\n",
    "import sklearn\n",
    "from sklearn.linear_model import LinearRegression"
   ]
  },
  {
   "cell_type": "markdown",
   "id": "ae3de6c1",
   "metadata": {},
   "source": [
    "Next, we create a LinearRegression object, afterwards, type lm. then press tab to see the list of methods availble on this object."
   ]
  },
  {
   "cell_type": "code",
   "execution_count": 40,
   "id": "b23ac0dd",
   "metadata": {},
   "outputs": [],
   "source": [
    "# Create a LinearRegression Object\n",
    "lreg = LinearRegression()"
   ]
  },
  {
   "cell_type": "markdown",
   "id": "5608c726",
   "metadata": {},
   "source": [
    "The functions we will be using are:\n",
    "\n",
    "lreg.fit() which fits a linear model\n",
    "\n",
    "lreg.predict() which is used to predict Y using the linear model with estimated coefficients\n",
    "\n",
    "lreg.score() which returns the coefficient of determination (R^2). A measure of how well observed outcomes are replicated by the model, learn more about it [here](http://en.wikipedia.org/wiki/Coefficient_of_determination)\n",
    "\n",
    "We'll start the multi variable regression analysis by seperating our califorina dataframe into the data columns and the target columns:"
   ]
  },
  {
   "cell_type": "code",
   "execution_count": 42,
   "id": "215722df",
   "metadata": {},
   "outputs": [],
   "source": [
    "# Data Columns\n",
    "X_multi = df_housing.drop('Price', axis = 1)\n",
    "\n",
    "# Targets\n",
    "Y_target = df_housing.Price"
   ]
  },
  {
   "cell_type": "markdown",
   "id": "5ea5d093",
   "metadata": {},
   "source": [
    "Finally, we're ready to pass the X and Y using the linear regression object."
   ]
  },
  {
   "cell_type": "code",
   "execution_count": 43,
   "id": "aff54958",
   "metadata": {},
   "outputs": [
    {
     "data": {
      "text/html": [
       "<style>#sk-container-id-1 {color: black;background-color: white;}#sk-container-id-1 pre{padding: 0;}#sk-container-id-1 div.sk-toggleable {background-color: white;}#sk-container-id-1 label.sk-toggleable__label {cursor: pointer;display: block;width: 100%;margin-bottom: 0;padding: 0.3em;box-sizing: border-box;text-align: center;}#sk-container-id-1 label.sk-toggleable__label-arrow:before {content: \"▸\";float: left;margin-right: 0.25em;color: #696969;}#sk-container-id-1 label.sk-toggleable__label-arrow:hover:before {color: black;}#sk-container-id-1 div.sk-estimator:hover label.sk-toggleable__label-arrow:before {color: black;}#sk-container-id-1 div.sk-toggleable__content {max-height: 0;max-width: 0;overflow: hidden;text-align: left;background-color: #f0f8ff;}#sk-container-id-1 div.sk-toggleable__content pre {margin: 0.2em;color: black;border-radius: 0.25em;background-color: #f0f8ff;}#sk-container-id-1 input.sk-toggleable__control:checked~div.sk-toggleable__content {max-height: 200px;max-width: 100%;overflow: auto;}#sk-container-id-1 input.sk-toggleable__control:checked~label.sk-toggleable__label-arrow:before {content: \"▾\";}#sk-container-id-1 div.sk-estimator input.sk-toggleable__control:checked~label.sk-toggleable__label {background-color: #d4ebff;}#sk-container-id-1 div.sk-label input.sk-toggleable__control:checked~label.sk-toggleable__label {background-color: #d4ebff;}#sk-container-id-1 input.sk-hidden--visually {border: 0;clip: rect(1px 1px 1px 1px);clip: rect(1px, 1px, 1px, 1px);height: 1px;margin: -1px;overflow: hidden;padding: 0;position: absolute;width: 1px;}#sk-container-id-1 div.sk-estimator {font-family: monospace;background-color: #f0f8ff;border: 1px dotted black;border-radius: 0.25em;box-sizing: border-box;margin-bottom: 0.5em;}#sk-container-id-1 div.sk-estimator:hover {background-color: #d4ebff;}#sk-container-id-1 div.sk-parallel-item::after {content: \"\";width: 100%;border-bottom: 1px solid gray;flex-grow: 1;}#sk-container-id-1 div.sk-label:hover label.sk-toggleable__label {background-color: #d4ebff;}#sk-container-id-1 div.sk-serial::before {content: \"\";position: absolute;border-left: 1px solid gray;box-sizing: border-box;top: 0;bottom: 0;left: 50%;z-index: 0;}#sk-container-id-1 div.sk-serial {display: flex;flex-direction: column;align-items: center;background-color: white;padding-right: 0.2em;padding-left: 0.2em;position: relative;}#sk-container-id-1 div.sk-item {position: relative;z-index: 1;}#sk-container-id-1 div.sk-parallel {display: flex;align-items: stretch;justify-content: center;background-color: white;position: relative;}#sk-container-id-1 div.sk-item::before, #sk-container-id-1 div.sk-parallel-item::before {content: \"\";position: absolute;border-left: 1px solid gray;box-sizing: border-box;top: 0;bottom: 0;left: 50%;z-index: -1;}#sk-container-id-1 div.sk-parallel-item {display: flex;flex-direction: column;z-index: 1;position: relative;background-color: white;}#sk-container-id-1 div.sk-parallel-item:first-child::after {align-self: flex-end;width: 50%;}#sk-container-id-1 div.sk-parallel-item:last-child::after {align-self: flex-start;width: 50%;}#sk-container-id-1 div.sk-parallel-item:only-child::after {width: 0;}#sk-container-id-1 div.sk-dashed-wrapped {border: 1px dashed gray;margin: 0 0.4em 0.5em 0.4em;box-sizing: border-box;padding-bottom: 0.4em;background-color: white;}#sk-container-id-1 div.sk-label label {font-family: monospace;font-weight: bold;display: inline-block;line-height: 1.2em;}#sk-container-id-1 div.sk-label-container {text-align: center;}#sk-container-id-1 div.sk-container {/* jupyter's `normalize.less` sets `[hidden] { display: none; }` but bootstrap.min.css set `[hidden] { display: none !important; }` so we also need the `!important` here to be able to override the default hidden behavior on the sphinx rendered scikit-learn.org. See: https://github.com/scikit-learn/scikit-learn/issues/21755 */display: inline-block !important;position: relative;}#sk-container-id-1 div.sk-text-repr-fallback {display: none;}</style><div id=\"sk-container-id-1\" class=\"sk-top-container\"><div class=\"sk-text-repr-fallback\"><pre>LinearRegression()</pre><b>In a Jupyter environment, please rerun this cell to show the HTML representation or trust the notebook. <br />On GitHub, the HTML representation is unable to render, please try loading this page with nbviewer.org.</b></div><div class=\"sk-container\" hidden><div class=\"sk-item\"><div class=\"sk-estimator sk-toggleable\"><input class=\"sk-toggleable__control sk-hidden--visually\" id=\"sk-estimator-id-1\" type=\"checkbox\" checked><label for=\"sk-estimator-id-1\" class=\"sk-toggleable__label sk-toggleable__label-arrow\">LinearRegression</label><div class=\"sk-toggleable__content\"><pre>LinearRegression()</pre></div></div></div></div></div>"
      ],
      "text/plain": [
       "LinearRegression()"
      ]
     },
     "execution_count": 43,
     "metadata": {},
     "output_type": "execute_result"
    }
   ],
   "source": [
    "# Implement Linear Regression\n",
    "lreg.fit(X_multi,Y_target)\n"
   ]
  },
  {
   "cell_type": "markdown",
   "id": "bcec5d67",
   "metadata": {},
   "source": [
    "Let's go ahead check the intercept and number of coefficients."
   ]
  },
  {
   "cell_type": "code",
   "execution_count": 44,
   "id": "b45c0a2d",
   "metadata": {},
   "outputs": [
    {
     "name": "stdout",
     "output_type": "stream",
     "text": [
      " The estimated intercept coefficient is -36.94 \n"
     ]
    }
   ],
   "source": [
    "print(' The estimated intercept coefficient is %.2f ' %lreg.intercept_)"
   ]
  },
  {
   "cell_type": "code",
   "execution_count": 45,
   "id": "fc87a328",
   "metadata": {},
   "outputs": [
    {
     "name": "stdout",
     "output_type": "stream",
     "text": [
      " The number of coefficients used was 8 \n"
     ]
    }
   ],
   "source": [
    "print(' The number of coefficients used was %d ' % len(lreg.coef_))"
   ]
  },
  {
   "cell_type": "markdown",
   "id": "85f8d316",
   "metadata": {},
   "source": [
    "Great! So we have basically made an equation for a line, but instead of just oneo coefficient m and an intercept b, we now have 13 coefficients. To get an idea of what this looks like check out the [documentation](http://scikit-learn.org/stable/modules/linear_model.html) for this equation:\n",
    "$$ y(w,x) = w_0 + w_1 x_1 + ... + w_p x_p $$\n",
    "\n",
    "Where $$w = (w_1, ...w_p)$$ as the coefficients and $$ w_0 $$ as the intercept "
   ]
  },
  {
   "cell_type": "markdown",
   "id": "65b44a92",
   "metadata": {},
   "source": [
    "What we'll do next is set up a DataFrame showing all the Features and their estimated coefficients obtained form the linear regression."
   ]
  },
  {
   "cell_type": "code",
   "execution_count": 46,
   "id": "30080182",
   "metadata": {},
   "outputs": [
    {
     "data": {
      "text/html": [
       "<div>\n",
       "<style scoped>\n",
       "    .dataframe tbody tr th:only-of-type {\n",
       "        vertical-align: middle;\n",
       "    }\n",
       "\n",
       "    .dataframe tbody tr th {\n",
       "        vertical-align: top;\n",
       "    }\n",
       "\n",
       "    .dataframe thead th {\n",
       "        text-align: right;\n",
       "    }\n",
       "</style>\n",
       "<table border=\"1\" class=\"dataframe\">\n",
       "  <thead>\n",
       "    <tr style=\"text-align: right;\">\n",
       "      <th></th>\n",
       "      <th>Features</th>\n",
       "      <th>Coefficient Estimate</th>\n",
       "    </tr>\n",
       "  </thead>\n",
       "  <tbody>\n",
       "    <tr>\n",
       "      <th>0</th>\n",
       "      <td>MedInc</td>\n",
       "      <td>0.436693</td>\n",
       "    </tr>\n",
       "    <tr>\n",
       "      <th>1</th>\n",
       "      <td>HouseAge</td>\n",
       "      <td>0.009436</td>\n",
       "    </tr>\n",
       "    <tr>\n",
       "      <th>2</th>\n",
       "      <td>AveRooms</td>\n",
       "      <td>-0.107322</td>\n",
       "    </tr>\n",
       "    <tr>\n",
       "      <th>3</th>\n",
       "      <td>AveBedrms</td>\n",
       "      <td>0.645066</td>\n",
       "    </tr>\n",
       "    <tr>\n",
       "      <th>4</th>\n",
       "      <td>Population</td>\n",
       "      <td>-0.000004</td>\n",
       "    </tr>\n",
       "    <tr>\n",
       "      <th>5</th>\n",
       "      <td>AveOccup</td>\n",
       "      <td>-0.003787</td>\n",
       "    </tr>\n",
       "    <tr>\n",
       "      <th>6</th>\n",
       "      <td>Latitude</td>\n",
       "      <td>-0.421314</td>\n",
       "    </tr>\n",
       "    <tr>\n",
       "      <th>7</th>\n",
       "      <td>Longitude</td>\n",
       "      <td>-0.434514</td>\n",
       "    </tr>\n",
       "    <tr>\n",
       "      <th>8</th>\n",
       "      <td>Price</td>\n",
       "      <td>NaN</td>\n",
       "    </tr>\n",
       "  </tbody>\n",
       "</table>\n",
       "</div>"
      ],
      "text/plain": [
       "     Features  Coefficient Estimate\n",
       "0      MedInc              0.436693\n",
       "1    HouseAge              0.009436\n",
       "2    AveRooms             -0.107322\n",
       "3   AveBedrms              0.645066\n",
       "4  Population             -0.000004\n",
       "5    AveOccup             -0.003787\n",
       "6    Latitude             -0.421314\n",
       "7   Longitude             -0.434514\n",
       "8       Price                   NaN"
      ]
     },
     "execution_count": 46,
     "metadata": {},
     "output_type": "execute_result"
    }
   ],
   "source": [
    "# Set a DataFrame from the Features\n",
    "df_coeff = DataFrame(df_housing.columns)\n",
    "df_coeff.columns = ['Features']\n",
    "\n",
    "# Set a new column lining up the coefficients from the linear regression\n",
    "df_coeff[\"Coefficient Estimate\"] = pd.Series(lreg.coef_)\n",
    "\n",
    "# Show\n",
    "df_coeff"
   ]
  },
  {
   "cell_type": "markdown",
   "id": "6fe4b3b1",
   "metadata": {},
   "source": [
    "The highest correlation is between AveBedrms and Price"
   ]
  },
  {
   "cell_type": "markdown",
   "id": "474ea0f8",
   "metadata": {},
   "source": [
    "### Step 7: Using Training and Validation "
   ]
  },
  {
   "cell_type": "markdown",
   "id": "476aaa8a",
   "metadata": {},
   "source": [
    "In a dataset a training set is implemented to build up a model, while a validation set is used to validate the model built. Data points in the training set are excluded from the validation set. The correct way to pick out samples from your dataset to be part either the training or validation (also called test) set is *randomly*.\n",
    "\n",
    "Fortunately, scikit learn has a built in function specifically for this called train_test_split.\n",
    "\n",
    "The parameters passed are your X and Y, then optionally test_size parameter, representing the proportion of the dataset to include in the test split. As well a train_size parameter. ou can learn more about these parameters [here](http://scikit-learn.org/stable/modules/generated/sklearn.cross_validation.train_test_split.html)"
   ]
  },
  {
   "cell_type": "code",
   "execution_count": 48,
   "id": "152d5f41",
   "metadata": {},
   "outputs": [],
   "source": [
    "# Grab the output and set as X and Y test and train data sets!\n",
    "X_train, X_test, Y_train, Y_test = sklearn.model_selection.train_test_split(X,df_housing.Price)"
   ]
  },
  {
   "cell_type": "code",
   "execution_count": 49,
   "id": "18744319",
   "metadata": {},
   "outputs": [
    {
     "name": "stdout",
     "output_type": "stream",
     "text": [
      "(15480, 2) (5160, 2) (15480,) (5160,)\n"
     ]
    }
   ],
   "source": [
    "# Print shapes of the training and testing data sets\n",
    "print(X_train.shape, X_test.shape, Y_train.shape, Y_test.shape)"
   ]
  },
  {
   "cell_type": "markdown",
   "id": "ec36337f",
   "metadata": {},
   "source": [
    "### Step 8: Predicting Prices"
   ]
  },
  {
   "cell_type": "markdown",
   "id": "f2efc915",
   "metadata": {},
   "source": [
    "Now that we have our training and testing sets, let's go ahead and try to use them to predict house prices. We'll use our training set for the prediction and then use our testing set for validation."
   ]
  },
  {
   "cell_type": "code",
   "execution_count": 50,
   "id": "d5488ba5",
   "metadata": {},
   "outputs": [
    {
     "data": {
      "text/html": [
       "<style>#sk-container-id-2 {color: black;background-color: white;}#sk-container-id-2 pre{padding: 0;}#sk-container-id-2 div.sk-toggleable {background-color: white;}#sk-container-id-2 label.sk-toggleable__label {cursor: pointer;display: block;width: 100%;margin-bottom: 0;padding: 0.3em;box-sizing: border-box;text-align: center;}#sk-container-id-2 label.sk-toggleable__label-arrow:before {content: \"▸\";float: left;margin-right: 0.25em;color: #696969;}#sk-container-id-2 label.sk-toggleable__label-arrow:hover:before {color: black;}#sk-container-id-2 div.sk-estimator:hover label.sk-toggleable__label-arrow:before {color: black;}#sk-container-id-2 div.sk-toggleable__content {max-height: 0;max-width: 0;overflow: hidden;text-align: left;background-color: #f0f8ff;}#sk-container-id-2 div.sk-toggleable__content pre {margin: 0.2em;color: black;border-radius: 0.25em;background-color: #f0f8ff;}#sk-container-id-2 input.sk-toggleable__control:checked~div.sk-toggleable__content {max-height: 200px;max-width: 100%;overflow: auto;}#sk-container-id-2 input.sk-toggleable__control:checked~label.sk-toggleable__label-arrow:before {content: \"▾\";}#sk-container-id-2 div.sk-estimator input.sk-toggleable__control:checked~label.sk-toggleable__label {background-color: #d4ebff;}#sk-container-id-2 div.sk-label input.sk-toggleable__control:checked~label.sk-toggleable__label {background-color: #d4ebff;}#sk-container-id-2 input.sk-hidden--visually {border: 0;clip: rect(1px 1px 1px 1px);clip: rect(1px, 1px, 1px, 1px);height: 1px;margin: -1px;overflow: hidden;padding: 0;position: absolute;width: 1px;}#sk-container-id-2 div.sk-estimator {font-family: monospace;background-color: #f0f8ff;border: 1px dotted black;border-radius: 0.25em;box-sizing: border-box;margin-bottom: 0.5em;}#sk-container-id-2 div.sk-estimator:hover {background-color: #d4ebff;}#sk-container-id-2 div.sk-parallel-item::after {content: \"\";width: 100%;border-bottom: 1px solid gray;flex-grow: 1;}#sk-container-id-2 div.sk-label:hover label.sk-toggleable__label {background-color: #d4ebff;}#sk-container-id-2 div.sk-serial::before {content: \"\";position: absolute;border-left: 1px solid gray;box-sizing: border-box;top: 0;bottom: 0;left: 50%;z-index: 0;}#sk-container-id-2 div.sk-serial {display: flex;flex-direction: column;align-items: center;background-color: white;padding-right: 0.2em;padding-left: 0.2em;position: relative;}#sk-container-id-2 div.sk-item {position: relative;z-index: 1;}#sk-container-id-2 div.sk-parallel {display: flex;align-items: stretch;justify-content: center;background-color: white;position: relative;}#sk-container-id-2 div.sk-item::before, #sk-container-id-2 div.sk-parallel-item::before {content: \"\";position: absolute;border-left: 1px solid gray;box-sizing: border-box;top: 0;bottom: 0;left: 50%;z-index: -1;}#sk-container-id-2 div.sk-parallel-item {display: flex;flex-direction: column;z-index: 1;position: relative;background-color: white;}#sk-container-id-2 div.sk-parallel-item:first-child::after {align-self: flex-end;width: 50%;}#sk-container-id-2 div.sk-parallel-item:last-child::after {align-self: flex-start;width: 50%;}#sk-container-id-2 div.sk-parallel-item:only-child::after {width: 0;}#sk-container-id-2 div.sk-dashed-wrapped {border: 1px dashed gray;margin: 0 0.4em 0.5em 0.4em;box-sizing: border-box;padding-bottom: 0.4em;background-color: white;}#sk-container-id-2 div.sk-label label {font-family: monospace;font-weight: bold;display: inline-block;line-height: 1.2em;}#sk-container-id-2 div.sk-label-container {text-align: center;}#sk-container-id-2 div.sk-container {/* jupyter's `normalize.less` sets `[hidden] { display: none; }` but bootstrap.min.css set `[hidden] { display: none !important; }` so we also need the `!important` here to be able to override the default hidden behavior on the sphinx rendered scikit-learn.org. See: https://github.com/scikit-learn/scikit-learn/issues/21755 */display: inline-block !important;position: relative;}#sk-container-id-2 div.sk-text-repr-fallback {display: none;}</style><div id=\"sk-container-id-2\" class=\"sk-top-container\"><div class=\"sk-text-repr-fallback\"><pre>LinearRegression()</pre><b>In a Jupyter environment, please rerun this cell to show the HTML representation or trust the notebook. <br />On GitHub, the HTML representation is unable to render, please try loading this page with nbviewer.org.</b></div><div class=\"sk-container\" hidden><div class=\"sk-item\"><div class=\"sk-estimator sk-toggleable\"><input class=\"sk-toggleable__control sk-hidden--visually\" id=\"sk-estimator-id-2\" type=\"checkbox\" checked><label for=\"sk-estimator-id-2\" class=\"sk-toggleable__label sk-toggleable__label-arrow\">LinearRegression</label><div class=\"sk-toggleable__content\"><pre>LinearRegression()</pre></div></div></div></div></div>"
      ],
      "text/plain": [
       "LinearRegression()"
      ]
     },
     "execution_count": 50,
     "metadata": {},
     "output_type": "execute_result"
    }
   ],
   "source": [
    "# Create our regression object\n",
    "lreg = LinearRegression()\n",
    "\n",
    "# Once again do a linear regression, except only on the training sets this time\n",
    "lreg.fit(X_train,Y_train)"
   ]
  },
  {
   "cell_type": "markdown",
   "id": "beab3559",
   "metadata": {},
   "source": [
    "Now run a prediction on both the X training set and the testing set."
   ]
  },
  {
   "cell_type": "code",
   "execution_count": 51,
   "id": "e2ce8853",
   "metadata": {},
   "outputs": [],
   "source": [
    "# Predictions on training and testing sets\n",
    "pred_train = lreg.predict(X_train)\n",
    "pred_test = lreg.predict(X_test)"
   ]
  },
  {
   "cell_type": "markdown",
   "id": "56f4fdae",
   "metadata": {},
   "source": [
    "Now we will get the mean square error"
   ]
  },
  {
   "cell_type": "code",
   "execution_count": 52,
   "id": "0fb46155",
   "metadata": {},
   "outputs": [
    {
     "name": "stdout",
     "output_type": "stream",
     "text": [
      "Fit a model X_train, and calculate MSE with Y_train: 1.31\n",
      "Fit a model X_train, and calculate MSE with X_test and Y_test: 1.27\n"
     ]
    }
   ],
   "source": [
    "print(\"Fit a model X_train, and calculate MSE with Y_train: %.2f\"  % np.mean((Y_train - pred_train) ** 2))\n",
    "    \n",
    "print(\"Fit a model X_train, and calculate MSE with X_test and Y_test: %.2f\"  %np.mean((Y_test - pred_test) ** 2))"
   ]
  },
  {
   "cell_type": "markdown",
   "id": "0ebcd5a0",
   "metadata": {},
   "source": [
    "It looks like our mean square error between our training and testing was pretty close. But how do we actually visualize this?"
   ]
  },
  {
   "cell_type": "markdown",
   "id": "de532315",
   "metadata": {},
   "source": [
    "### Step 9 : Residual Plots"
   ]
  },
  {
   "cell_type": "markdown",
   "id": "bd3b0f54",
   "metadata": {},
   "source": [
    "In regression analysis, the difference between the observed value of the dependent variable (y) and the predicted value (ŷ) is called the residual (e). Each data point has one residual, so that:\n",
    "\n",
    "$$Residual = Observed\\:value - Predicted\\:value $$\n",
    "\n",
    "You can think of these residuals in the same way as the D value we discussed earlier, in this case however, there were multiple data points considered.\n",
    "\n",
    "A residual plot is a graph that shows the residuals on the vertical axis and the independent variable on the horizontal axis. If the points in a residual plot are randomly dispersed around the horizontal axis, a linear regression model is appropriate for the data; otherwise, a non-linear model is more appropriate.\n",
    "\n",
    "Residual plots are a good way to visualize the errors in your data.  If you have done a good job then your data should be randomly scattered around line zero. If there is some strucutre or pattern, that means your model is not capturing some thing. There could be an interaction between 2 variables that you're not considering, or may be you are measuring time dependent data. If this is the case go back to your model and check your data set closely.\n",
    "\n",
    "So now let's go ahead and create the residual plot. For more info on the residual plots check out this great [link](http://blog.minitab.com/blog/adventures-in-statistics/why-you-need-to-check-your-residual-plots-for-regression-analysis)."
   ]
  },
  {
   "cell_type": "code",
   "execution_count": 53,
   "id": "45ed2c28",
   "metadata": {},
   "outputs": [
    {
     "data": {
      "text/plain": [
       "Text(0.5, 1.0, 'Residual Plots')"
      ]
     },
     "execution_count": 53,
     "metadata": {},
     "output_type": "execute_result"
    },
    {
     "data": {
      "image/png": "[encoded data removed]",
      "text/plain": [
       "<Figure size 640x480 with 1 Axes>"
      ]
     },
     "metadata": {},
     "output_type": "display_data"
    }
   ],
   "source": [
    "# Scatter plot the training data\n",
    "train = plt.scatter(pred_train,(Y_train-pred_train),c='b',alpha=0.5)\n",
    "\n",
    "# Scatter plot the testing data\n",
    "test = plt.scatter(pred_test,(Y_test-pred_test),c='r',alpha=0.5)\n",
    "\n",
    "# Plot a horizontal axis line at 0\n",
    "plt.hlines(y=0,xmin=-10,xmax=50)\n",
    "\n",
    "#Labels\n",
    "plt.legend((train,test),('Training','Test'),loc='lower left')\n",
    "plt.title('Residual Plots')"
   ]
  },
  {
   "cell_type": "markdown",
   "id": "914873bc",
   "metadata": {},
   "source": [
    "There seems to be a major pattern, therefore, we should be concerned that a linear regression is not a suitable method of prediciton. Which I believe to be expected because of the block nature of the dataset."
   ]
  },
  {
   "cell_type": "markdown",
   "id": "2a22f634",
   "metadata": {},
   "source": [
    "We can also make the same residual plot with seaborn"
   ]
  },
  {
   "cell_type": "code",
   "execution_count": 55,
   "id": "740d23f5",
   "metadata": {},
   "outputs": [
    {
     "data": {
      "text/plain": [
       "<Axes: xlabel='AveRooms', ylabel='Price'>"
      ]
     },
     "execution_count": 55,
     "metadata": {},
     "output_type": "execute_result"
    },
    {
     "data": {
      "image/png": "[encoded data removed]",
      "text/plain": [
       "<Figure size 640x480 with 1 Axes>"
      ]
     },
     "metadata": {},
     "output_type": "display_data"
    }
   ],
   "source": [
    "# Residual plot of all the dataset using seaborn\n",
    "sns.residplot(data = df_housing, x = 'AveRooms', y = 'Price')"
   ]
  },
  {
   "cell_type": "markdown",
   "id": "985a0db7",
   "metadata": {},
   "source": [
    "Look [here](http://scikit-learn.org/stable/modules/linear_model.html#linear-model) for more Linear Regression Documentation"
   ]
  },
  {
   "cell_type": "markdown",
   "id": "ff9c6f46",
   "metadata": {},
   "source": [
    "### Linear Regression - ML Project - Completed"
   ]
  },
  {
   "cell_type": "code",
   "execution_count": null,
   "id": "cdaca4e4",
   "metadata": {},
   "outputs": [],
   "source": []
  }
 ],
 "metadata": {
  "kernelspec": {
   "display_name": "Python 3 (ipykernel)",
   "language": "python",
   "name": "python3"
  },
  "language_info": {
   "codemirror_mode": {
    "name": "ipython",
    "version": 3
   },
   "file_extension": ".py",
   "mimetype": "text/x-python",
   "name": "python",
   "nbconvert_exporter": "python",
   "pygments_lexer": "ipython3",
   "version": "3.11.3"
  }
 },
 "nbformat": 4,
 "nbformat_minor": 5
}
